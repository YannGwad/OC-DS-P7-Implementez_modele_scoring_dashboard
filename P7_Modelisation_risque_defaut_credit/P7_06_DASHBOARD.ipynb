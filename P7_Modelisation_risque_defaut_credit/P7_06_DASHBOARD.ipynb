{
 "cells": [
  {
   "cell_type": "markdown",
   "id": "5238729e-8245-4e98-9980-7d6e3dc8a37d",
   "metadata": {},
   "source": [
    "#  <span style='color:DarkBlue'>P7 - Implémentez un modèle de scoring</span>"
   ]
  },
  {
   "cell_type": "markdown",
   "id": "88cdd050-9ac5-4596-b1d8-4b766be2d458",
   "metadata": {},
   "source": [
    "<div style=\"text-align:center\">\n",
    "    <img src=\"images/logo_proj7_credit.png\" width=\"50%\">\n",
    "</div>"
   ]
  },
  {
   "cell_type": "markdown",
   "id": "3b3467cc-bf66-4a31-af07-1ff783cf422f",
   "metadata": {},
   "source": [
    " # <span class='bg-primary'>P7_06 - DASHBOARD</span>"
   ]
  },
  {
   "cell_type": "markdown",
   "id": "61074739-6425-46bb-a56f-4af63c40fe1a",
   "metadata": {},
   "source": [
    "Ce notebook traite de la préparation des différents champs du jeu de test pour affichage dans le dashboard.\n",
    "\n",
    "En particulier :\n",
    "- **jeu de test** : récupération des champs à afficher dans le dashboard sous une forme compréhensible (ex : âge en années plutôt qu'en nombre de jour, sexe en Féminin/Masculin plutôt que 0/1).\n",
    "    - situer le patient parmi les défaillants ou non défaillants sur les variables âge, sexe, catégorie socio-professionnelle, revenus, montant du crédit, durée du crédit..."
   ]
  },
  {
   "cell_type": "markdown",
   "id": "4f087d76-fdbe-449a-a9d7-0467a7da6887",
   "metadata": {},
   "source": [
    "## <span style='background: PowderBlue'>1. Introduction</span>\n",
    "\n",
    "*****\n",
    "**Mission**\n",
    "*****\n",
    "**Développer un modèle de scoring de la probabilité de défaut de paiement du client** pour étayer la décision d'accorder ou non un prêt à un client potentiel en s’appuyant sur des sources de données variées (données comportementales, données provenant d'autres institutions financières...).\n",
    "\n",
    "*****\n",
    "**Objectifs**\n",
    "*****\n",
    "- analyser le jeu de données,\n",
    "- Construire **un modèle de scoring** qui donnera une prédiction sur la probabilité de faillite d'un client de façon automatique,\n",
    "- réaliser un **dashboard interactif** permettant aux chargés de clientèles d'expliquer de manière transparente la décision d'octroi ou non de crédit\n"
   ]
  },
  {
   "cell_type": "code",
   "execution_count": 1,
   "id": "79854a25-a0da-45d7-aac9-3cb509d06b26",
   "metadata": {},
   "outputs": [
    {
     "name": "stderr",
     "output_type": "stream",
     "text": [
      "Using `tqdm.autonotebook.tqdm` in notebook mode. Use `tqdm.tqdm` instead to force console mode (e.g. in jupyter console)\n"
     ]
    },
    {
     "name": "stdout",
     "output_type": "stream",
     "text": [
      "Version des librairies utilisées :\n",
      "Python                : 3.8.8 (default, Apr 13 2021, 15:08:03) [MSC v.1916 64 bit (AMD64)]\n",
      "NumPy                 : 1.24.4\n",
      "Pandas                : 1.5.3\n",
      "Matplotlib            : 3.7.5\n",
      "Seaborn               : 0.13.2\n",
      "Lancé le           : 2024-06-02T18:22:07.410458\n"
     ]
    }
   ],
   "source": [
    "# Chargement des librairies\n",
    "import datetime\n",
    "import sys\n",
    "import time\n",
    "from datetime import datetime\n",
    "import warnings\n",
    "import numpy as np\n",
    "import pandas as pd\n",
    "import pickle\n",
    "from joblib import dump, load\n",
    "from collections import Counter\n",
    "\n",
    "# Librairies personnelles\n",
    "import fonctions_data\n",
    "# Visualisation\n",
    "import matplotlib\n",
    "import matplotlib.pyplot as plt\n",
    "import matplotlib.lines as mlines\n",
    "import seaborn as sns\n",
    "import plotly.graph_objects as go\n",
    "\n",
    "\n",
    "# Interprétation\n",
    "import shap\n",
    "\n",
    "# Warnings\n",
    "import warnings\n",
    "from warnings import simplefilter\n",
    "simplefilter(action='ignore', category=FutureWarning)\n",
    "\n",
    "%matplotlib inline\n",
    "# Chargement à chaud des librairies personnelles\n",
    "%load_ext autoreload\n",
    "%autoreload 2\n",
    "# Valide code pep8\n",
    "%load_ext pycodestyle_magic\n",
    "# %pycodestyle_on\n",
    "# %pycodestyle_off\n",
    "\n",
    "# Versions\n",
    "print('Version des librairies utilisées :')\n",
    "#print('jyquickhelper         : ' + jyquickhelper.__version__)\n",
    "print('Python                : ' + sys.version)\n",
    "print('NumPy                 : ' + np.version.full_version)\n",
    "print('Pandas                : ' + pd.__version__)\n",
    "print('Matplotlib            : ' + matplotlib.__version__)\n",
    "print('Seaborn               : ' + sns.__version__)\n",
    "#print('Scikit-learn          : ' + sklearn.__version__)\n",
    "now = datetime.now().isoformat()\n",
    "print('Lancé le           : ' + now)"
   ]
  },
  {
   "cell_type": "markdown",
   "id": "70560377-51b9-4de8-b0e2-ea0220a24545",
   "metadata": {},
   "source": [
    "## <span style='background:PowderBlue'>2. Initialisation (test/meilleur modèle)</span>"
   ]
  },
  {
   "cell_type": "markdown",
   "id": "544f4b51-1861-49a7-a180-f39bef91ad7c",
   "metadata": {},
   "source": [
    "#### <span style='background:mistyrose'>**Chargement du jeu de données du train set sans pré-processing**</span>"
   ]
  },
  {
   "cell_type": "code",
   "execution_count": 2,
   "id": "3ccc758a-2008-432c-90c6-5e202918f44c",
   "metadata": {},
   "outputs": [
    {
     "data": {
      "text/plain": [
       "(307511, 122)"
      ]
     },
     "execution_count": 2,
     "metadata": {},
     "output_type": "execute_result"
    }
   ],
   "source": [
    "application_train = pd.read_csv('home_credit_default_risk/application_train.csv')\n",
    "application_train.shape\n",
    "#OneDrive/Bureau/P7_Modelisation_risque_defaut_credit/home_credit_default_risk/application_train.csv"
   ]
  },
  {
   "cell_type": "code",
   "execution_count": 3,
   "id": "ee30bfad-5631-419f-b1b8-b88fb5adb99b",
   "metadata": {},
   "outputs": [
    {
     "name": "stderr",
     "output_type": "stream",
     "text": [
      "\n",
      "A value is trying to be set on a copy of a slice from a DataFrame\n",
      "\n",
      "See the caveats in the documentation: https://pandas.pydata.org/pandas-docs/stable/user_guide/indexing.html#returning-a-view-versus-a-copy\n"
     ]
    }
   ],
   "source": [
    "# Correction valeurs aberrantes\n",
    "application_train['DAYS_EMPLOYED'][application_train['DAYS_EMPLOYED']\n",
    "                                   == 365243] = 0"
   ]
  },
  {
   "cell_type": "code",
   "execution_count": 4,
   "id": "8fc33b9f-1044-4076-816c-2f7147e8ee47",
   "metadata": {},
   "outputs": [
    {
     "data": {
      "text/plain": [
       "(307507, 122)"
      ]
     },
     "execution_count": 4,
     "metadata": {},
     "output_type": "execute_result"
    }
   ],
   "source": [
    "# Correction : difficile d'imputer le sexe par le mode de cette catégorie\n",
    "# Comme il n'y a que 4 clients avec un sexe non renseigné, on supprime ces\n",
    "# valeurs\n",
    "application_train = \\\n",
    "    application_train[application_train['CODE_GENDER'] != 'XNA']\n",
    "application_train.shape"
   ]
  },
  {
   "cell_type": "markdown",
   "id": "711d43ac-5364-4161-b916-aed540abb001",
   "metadata": {},
   "source": [
    "#### <span style='background:mistyrose'>**Chargement du jeu de données du test set sans pré-processing**</span>"
   ]
  },
  {
   "cell_type": "code",
   "execution_count": 5,
   "id": "d8afb512-7719-4f36-9351-96cf9d7a6a03",
   "metadata": {},
   "outputs": [
    {
     "data": {
      "text/plain": [
       "(48744, 121)"
      ]
     },
     "execution_count": 5,
     "metadata": {},
     "output_type": "execute_result"
    }
   ],
   "source": [
    "application_test = pd.read_csv('home_credit_default_risk/application_test.csv')\n",
    "application_test.shape"
   ]
  },
  {
   "cell_type": "code",
   "execution_count": 6,
   "id": "11510625-0c53-4fb4-8d89-f89c32a23f90",
   "metadata": {},
   "outputs": [
    {
     "name": "stderr",
     "output_type": "stream",
     "text": [
      "\n",
      "A value is trying to be set on a copy of a slice from a DataFrame\n",
      "\n",
      "See the caveats in the documentation: https://pandas.pydata.org/pandas-docs/stable/user_guide/indexing.html#returning-a-view-versus-a-copy\n"
     ]
    }
   ],
   "source": [
    "# Correction valeurs aberrantes\n",
    "application_test['DAYS_EMPLOYED'][application_test['DAYS_EMPLOYED']\n",
    "                                  == 365243] = 0"
   ]
  },
  {
   "cell_type": "markdown",
   "id": "3b0437fe-1408-4ba5-a6c3-d8e968530ef1",
   "metadata": {},
   "source": [
    "#### <span style='background:mistyrose'>**Chargement du jeu de données du train set issu du pré-processing et de la feature sélection**</span>"
   ]
  },
  {
   "cell_type": "markdown",
   "id": "a3e93269-c200-4c3d-82c2-a0bae88412b7",
   "metadata": {},
   "source": [
    "- **train_set** : jeu de données étiquetté (variable cible = TARGET) du train set, issu de la phase de pré-processing (nettoyage, gestion des valeurs manquantes, gestion des valeurs aberrantes, encodage, merge de tous les fichiers, feature engineering et feature sélection)."
   ]
  },
  {
   "cell_type": "code",
   "execution_count": 7,
   "id": "40005bcd-1223-4bdd-b07c-737eaaca4720",
   "metadata": {},
   "outputs": [
    {
     "data": {
      "text/plain": [
       "(307507, 218)"
      ]
     },
     "execution_count": 7,
     "metadata": {},
     "output_type": "execute_result"
    }
   ],
   "source": [
    "fic_sav_train_set_sans = \\\n",
    "    'pickle_files/train_set.pickle'\n",
    "# Chargement de train_set\n",
    "with open(fic_sav_train_set_sans, 'rb') as df_appli_train_set_sans:\n",
    "    train_set = pickle.load(df_appli_train_set_sans)\n",
    "train_set.shape"
   ]
  },
  {
   "cell_type": "markdown",
   "id": "d2d900ba-643f-4527-9388-8495f1756096",
   "metadata": {},
   "source": [
    "#### <span style='background:mistyrose'>**Chargement du jeu de données du test set issu du pré-processing et de la feature sélection**</span>"
   ]
  },
  {
   "cell_type": "markdown",
   "id": "a8cdb3fe-e8bf-48fc-9ecd-52afcd95d460",
   "metadata": {},
   "source": [
    "- **test_set** : jeu de données non étiquetté (sans la variable cible TARGET) du test set, issu de la phase de pré-processing (nettoyage, gestion des valeurs manquantes, gestion des valeurs aberrantes, encodage, merge de tous les fichiers, feature engineering et feature sélection)."
   ]
  },
  {
   "cell_type": "code",
   "execution_count": 8,
   "id": "7c102605-ea6b-4fd7-a4d0-aaba7ad34cb2",
   "metadata": {},
   "outputs": [
    {
     "data": {
      "text/plain": [
       "(48744, 217)"
      ]
     },
     "execution_count": 8,
     "metadata": {},
     "output_type": "execute_result"
    }
   ],
   "source": [
    "fic_sav_test_set_sans = \\\n",
    "    'pickle_files/test_set.pickle'\n",
    "# Chargement de test_set\n",
    "with open(fic_sav_test_set_sans, 'rb') as df_appli_test_set_sans:\n",
    "    test_set = pickle.load(df_appli_test_set_sans)\n",
    "test_set.shape"
   ]
  },
  {
   "cell_type": "markdown",
   "id": "929c0de4-c3eb-45ec-b044-a7c97a0d119e",
   "metadata": {},
   "source": [
    "#### <span style='background:mistyrose'>**Chargement du meilleur modèle LightGBM**</span>"
   ]
  },
  {
   "cell_type": "code",
   "execution_count": 9,
   "id": "83da7b26-86fe-4c15-b579-ba776dc26c80",
   "metadata": {},
   "outputs": [
    {
     "data": {
      "text/html": [
       "<style>#sk-container-id-1 {color: black;background-color: white;}#sk-container-id-1 pre{padding: 0;}#sk-container-id-1 div.sk-toggleable {background-color: white;}#sk-container-id-1 label.sk-toggleable__label {cursor: pointer;display: block;width: 100%;margin-bottom: 0;padding: 0.3em;box-sizing: border-box;text-align: center;}#sk-container-id-1 label.sk-toggleable__label-arrow:before {content: \"▸\";float: left;margin-right: 0.25em;color: #696969;}#sk-container-id-1 label.sk-toggleable__label-arrow:hover:before {color: black;}#sk-container-id-1 div.sk-estimator:hover label.sk-toggleable__label-arrow:before {color: black;}#sk-container-id-1 div.sk-toggleable__content {max-height: 0;max-width: 0;overflow: hidden;text-align: left;background-color: #f0f8ff;}#sk-container-id-1 div.sk-toggleable__content pre {margin: 0.2em;color: black;border-radius: 0.25em;background-color: #f0f8ff;}#sk-container-id-1 input.sk-toggleable__control:checked~div.sk-toggleable__content {max-height: 200px;max-width: 100%;overflow: auto;}#sk-container-id-1 input.sk-toggleable__control:checked~label.sk-toggleable__label-arrow:before {content: \"▾\";}#sk-container-id-1 div.sk-estimator input.sk-toggleable__control:checked~label.sk-toggleable__label {background-color: #d4ebff;}#sk-container-id-1 div.sk-label input.sk-toggleable__control:checked~label.sk-toggleable__label {background-color: #d4ebff;}#sk-container-id-1 input.sk-hidden--visually {border: 0;clip: rect(1px 1px 1px 1px);clip: rect(1px, 1px, 1px, 1px);height: 1px;margin: -1px;overflow: hidden;padding: 0;position: absolute;width: 1px;}#sk-container-id-1 div.sk-estimator {font-family: monospace;background-color: #f0f8ff;border: 1px dotted black;border-radius: 0.25em;box-sizing: border-box;margin-bottom: 0.5em;}#sk-container-id-1 div.sk-estimator:hover {background-color: #d4ebff;}#sk-container-id-1 div.sk-parallel-item::after {content: \"\";width: 100%;border-bottom: 1px solid gray;flex-grow: 1;}#sk-container-id-1 div.sk-label:hover label.sk-toggleable__label {background-color: #d4ebff;}#sk-container-id-1 div.sk-serial::before {content: \"\";position: absolute;border-left: 1px solid gray;box-sizing: border-box;top: 0;bottom: 0;left: 50%;z-index: 0;}#sk-container-id-1 div.sk-serial {display: flex;flex-direction: column;align-items: center;background-color: white;padding-right: 0.2em;padding-left: 0.2em;position: relative;}#sk-container-id-1 div.sk-item {position: relative;z-index: 1;}#sk-container-id-1 div.sk-parallel {display: flex;align-items: stretch;justify-content: center;background-color: white;position: relative;}#sk-container-id-1 div.sk-item::before, #sk-container-id-1 div.sk-parallel-item::before {content: \"\";position: absolute;border-left: 1px solid gray;box-sizing: border-box;top: 0;bottom: 0;left: 50%;z-index: -1;}#sk-container-id-1 div.sk-parallel-item {display: flex;flex-direction: column;z-index: 1;position: relative;background-color: white;}#sk-container-id-1 div.sk-parallel-item:first-child::after {align-self: flex-end;width: 50%;}#sk-container-id-1 div.sk-parallel-item:last-child::after {align-self: flex-start;width: 50%;}#sk-container-id-1 div.sk-parallel-item:only-child::after {width: 0;}#sk-container-id-1 div.sk-dashed-wrapped {border: 1px dashed gray;margin: 0 0.4em 0.5em 0.4em;box-sizing: border-box;padding-bottom: 0.4em;background-color: white;}#sk-container-id-1 div.sk-label label {font-family: monospace;font-weight: bold;display: inline-block;line-height: 1.2em;}#sk-container-id-1 div.sk-label-container {text-align: center;}#sk-container-id-1 div.sk-container {/* jupyter's `normalize.less` sets `[hidden] { display: none; }` but bootstrap.min.css set `[hidden] { display: none !important; }` so we also need the `!important` here to be able to override the default hidden behavior on the sphinx rendered scikit-learn.org. See: https://github.com/scikit-learn/scikit-learn/issues/21755 */display: inline-block !important;position: relative;}#sk-container-id-1 div.sk-text-repr-fallback {display: none;}</style><div id=\"sk-container-id-1\" class=\"sk-top-container\"><div class=\"sk-text-repr-fallback\"><pre>LGBMClassifier(class_weight=&#x27;balanced&#x27;, colsample_bytree=0.883696173865355,\n",
       "               force_col_wise=True, max_depth=4, min_child_samples=37,\n",
       "               min_child_weight=0.9053832802852111, n_jobs=-1, num_leaves=8,\n",
       "               objective=&#x27;binary&#x27;, reg_alpha=0.0013343227256418153,\n",
       "               reg_lambda=1.1168060057563535e-06, subsample=0.876335534267455,\n",
       "               subsample_freq=4, verbosity=-1)</pre><b>In a Jupyter environment, please rerun this cell to show the HTML representation or trust the notebook. <br />On GitHub, the HTML representation is unable to render, please try loading this page with nbviewer.org.</b></div><div class=\"sk-container\" hidden><div class=\"sk-item\"><div class=\"sk-estimator sk-toggleable\"><input class=\"sk-toggleable__control sk-hidden--visually\" id=\"sk-estimator-id-1\" type=\"checkbox\" checked><label for=\"sk-estimator-id-1\" class=\"sk-toggleable__label sk-toggleable__label-arrow\">LGBMClassifier</label><div class=\"sk-toggleable__content\"><pre>LGBMClassifier(class_weight=&#x27;balanced&#x27;, colsample_bytree=0.883696173865355,\n",
       "               force_col_wise=True, max_depth=4, min_child_samples=37,\n",
       "               min_child_weight=0.9053832802852111, n_jobs=-1, num_leaves=8,\n",
       "               objective=&#x27;binary&#x27;, reg_alpha=0.0013343227256418153,\n",
       "               reg_lambda=1.1168060057563535e-06, subsample=0.876335534267455,\n",
       "               subsample_freq=4, verbosity=-1)</pre></div></div></div></div></div>"
      ],
      "text/plain": [
       "LGBMClassifier(class_weight='balanced', colsample_bytree=0.883696173865355,\n",
       "               force_col_wise=True, max_depth=4, min_child_samples=37,\n",
       "               min_child_weight=0.9053832802852111, n_jobs=-1, num_leaves=8,\n",
       "               objective='binary', reg_alpha=0.0013343227256418153,\n",
       "               reg_lambda=1.1168060057563535e-06, subsample=0.876335534267455,\n",
       "               subsample_freq=4, verbosity=-1)"
      ]
     },
     "execution_count": 9,
     "metadata": {},
     "output_type": "execute_result"
    }
   ],
   "source": [
    "# Chargement du meilleur modèle\n",
    "fic_best_model = 'pickle_files/best_model.pickle'\n",
    "with open(fic_best_model, 'rb') as df_best_model:\n",
    "    best_model = pickle.load(df_best_model)\n",
    "best_model"
   ]
  },
  {
   "cell_type": "code",
   "execution_count": 10,
   "id": "be098952-e826-47f6-8504-10014ad67d28",
   "metadata": {},
   "outputs": [],
   "source": [
    "filename =  'pickle_files/best_model.pickle'\n",
    "outfile = open(filename,'wb')\n",
    "pickle.dump(best_model, outfile)\n",
    "outfile.close()"
   ]
  },
  {
   "cell_type": "markdown",
   "id": "48d6b934-dbe0-4fef-8610-1721fb5b76e9",
   "metadata": {},
   "source": [
    "## <span style='background:PowderBlue'>3. Scoring (prédictions/Probabilités)</span>"
   ]
  },
  {
   "cell_type": "code",
   "execution_count": 64,
   "id": "93d98679-21c7-4a29-9a35-8e8b0864db32",
   "metadata": {},
   "outputs": [],
   "source": [
    "# Copie du jeu de test\n",
    "test = test_set.copy(deep=True)\n",
    "# Sauvegarde des identifiants des clients inutiles aux prédictions\n",
    "id_client = test['SK_ID_CURR']\n",
    "# Préparation de la matrice à soumettre aux prédictions \n",
    "X_test = test.drop('SK_ID_CURR', axis=1)"
   ]
  },
  {
   "cell_type": "code",
   "execution_count": 65,
   "id": "3b720518-d32c-4de7-9053-ff48697bbc9e",
   "metadata": {},
   "outputs": [],
   "source": [
    "# Score des prédictions de probabiltés\n",
    "y_proba = best_model.predict_proba(X_test)[:, 1]"
   ]
  },
  {
   "cell_type": "code",
   "execution_count": 66,
   "id": "c70da3cb-39d7-4d6e-90cb-fa092e7e2c21",
   "metadata": {},
   "outputs": [],
   "source": [
    "# Prédictions pour le client :\n",
    "# classe 0 : non défaillant, classe 1 : défaillant\n",
    "y_pred = best_model.predict(X_test)"
   ]
  },
  {
   "cell_type": "code",
   "execution_count": 67,
   "id": "36a88c24-4110-48ce-8009-dbb971d42333",
   "metadata": {},
   "outputs": [
    {
     "data": {
      "text/html": [
       "<div>\n",
       "<style scoped>\n",
       "    .dataframe tbody tr th:only-of-type {\n",
       "        vertical-align: middle;\n",
       "    }\n",
       "\n",
       "    .dataframe tbody tr th {\n",
       "        vertical-align: top;\n",
       "    }\n",
       "\n",
       "    .dataframe thead th {\n",
       "        text-align: right;\n",
       "    }\n",
       "</style>\n",
       "<table border=\"1\" class=\"dataframe\">\n",
       "  <thead>\n",
       "    <tr style=\"text-align: right;\">\n",
       "      <th></th>\n",
       "      <th>SK_ID_CURR</th>\n",
       "      <th>PRED_CLASSE_CLIENT</th>\n",
       "      <th>SCORE_CLIENT</th>\n",
       "      <th>SCORE_CLIENT_%</th>\n",
       "    </tr>\n",
       "  </thead>\n",
       "  <tbody>\n",
       "    <tr>\n",
       "      <th>0</th>\n",
       "      <td>100001</td>\n",
       "      <td>0</td>\n",
       "      <td>0.403917</td>\n",
       "      <td>40.4</td>\n",
       "    </tr>\n",
       "    <tr>\n",
       "      <th>1</th>\n",
       "      <td>100005</td>\n",
       "      <td>0</td>\n",
       "      <td>0.476231</td>\n",
       "      <td>47.6</td>\n",
       "    </tr>\n",
       "    <tr>\n",
       "      <th>2</th>\n",
       "      <td>100013</td>\n",
       "      <td>0</td>\n",
       "      <td>0.298046</td>\n",
       "      <td>29.8</td>\n",
       "    </tr>\n",
       "  </tbody>\n",
       "</table>\n",
       "</div>"
      ],
      "text/plain": [
       "   SK_ID_CURR  PRED_CLASSE_CLIENT  SCORE_CLIENT  SCORE_CLIENT_%\n",
       "0      100001                   0      0.403917            40.4\n",
       "1      100005                   0      0.476231            47.6\n",
       "2      100013                   0      0.298046            29.8"
      ]
     },
     "execution_count": 67,
     "metadata": {},
     "output_type": "execute_result"
    }
   ],
   "source": [
    "# Constitution du dataframe pour merge\n",
    "df_score = pd.DataFrame({'SK_ID_CURR' : id_client,\n",
    "                         'PRED_CLASSE_CLIENT' : y_pred,\n",
    "                         'SCORE_CLIENT' : y_proba,\n",
    "                         'SCORE_CLIENT_%' : np.round(y_proba * 100, 1)})\n",
    "df_score.head(3)"
   ]
  },
  {
   "cell_type": "code",
   "execution_count": 68,
   "id": "02e45964-ca6d-4a4f-bebb-f8f69b067eee",
   "metadata": {},
   "outputs": [
    {
     "data": {
      "text/html": [
       "<div>\n",
       "<style scoped>\n",
       "    .dataframe tbody tr th:only-of-type {\n",
       "        vertical-align: middle;\n",
       "    }\n",
       "\n",
       "    .dataframe tbody tr th {\n",
       "        vertical-align: top;\n",
       "    }\n",
       "\n",
       "    .dataframe thead th {\n",
       "        text-align: right;\n",
       "    }\n",
       "</style>\n",
       "<table border=\"1\" class=\"dataframe\">\n",
       "  <thead>\n",
       "    <tr style=\"text-align: right;\">\n",
       "      <th></th>\n",
       "      <th>SK_ID_CURR</th>\n",
       "      <th>PRED_CLASSE_CLIENT</th>\n",
       "      <th>SCORE_CLIENT</th>\n",
       "      <th>SCORE_CLIENT_%</th>\n",
       "      <th>CREDIT_TO_ANNUITY_RATIO</th>\n",
       "      <th>AMT_REQ_CREDIT_BUREAU_MON</th>\n",
       "      <th>AMT_REQ_CREDIT_BUREAU_QRT</th>\n",
       "      <th>INSTAL_AMT_PAYMENT_DIFF_MIN</th>\n",
       "      <th>POS_CNT_INSTALMENT_MIN</th>\n",
       "      <th>PREV_WEEKDAY_APPR_PROCESS_START_SUNDAY_MEAN</th>\n",
       "      <th>...</th>\n",
       "      <th>PREV_NAME_YIELD_GROUP_MEAN</th>\n",
       "      <th>CC_CNT_DRAWINGS_ATM_CURRENT_MEAN</th>\n",
       "      <th>POS_LOAN_COMPLETED_MEAN</th>\n",
       "      <th>PREV_AMT_DECLINED_SUM</th>\n",
       "      <th>INSTAL_AMT_INSTALMENT_MIN</th>\n",
       "      <th>INSTAL_AMT_PAYMENT_RATIO_MEAN</th>\n",
       "      <th>CC_CNT_DRAWINGS_CURRENT_VAR</th>\n",
       "      <th>PREV_LOAN_RATE_MEAN</th>\n",
       "      <th>PREV_DAYS_DECISION_MEAN</th>\n",
       "      <th>EXT_SOURCE_2</th>\n",
       "    </tr>\n",
       "  </thead>\n",
       "  <tbody>\n",
       "    <tr>\n",
       "      <th>0</th>\n",
       "      <td>100001</td>\n",
       "      <td>0</td>\n",
       "      <td>0.403917</td>\n",
       "      <td>40.4</td>\n",
       "      <td>0.4023</td>\n",
       "      <td>0.0</td>\n",
       "      <td>0.000000</td>\n",
       "      <td>0.0</td>\n",
       "      <td>4.0</td>\n",
       "      <td>0.0</td>\n",
       "      <td>...</td>\n",
       "      <td>4.0</td>\n",
       "      <td>0.2106</td>\n",
       "      <td>0.4500</td>\n",
       "      <td>1048.5</td>\n",
       "      <td>3951.0</td>\n",
       "      <td>1.000000</td>\n",
       "      <td>0.3333</td>\n",
       "      <td>0.1661</td>\n",
       "      <td>-1740.0</td>\n",
       "      <td>0.9240</td>\n",
       "    </tr>\n",
       "    <tr>\n",
       "      <th>1</th>\n",
       "      <td>100005</td>\n",
       "      <td>0</td>\n",
       "      <td>0.476231</td>\n",
       "      <td>47.6</td>\n",
       "      <td>-0.0482</td>\n",
       "      <td>0.0</td>\n",
       "      <td>0.000000</td>\n",
       "      <td>0.0</td>\n",
       "      <td>9.0</td>\n",
       "      <td>0.0</td>\n",
       "      <td>...</td>\n",
       "      <td>2.0</td>\n",
       "      <td>0.2106</td>\n",
       "      <td>0.0909</td>\n",
       "      <td>4464.0</td>\n",
       "      <td>4813.2</td>\n",
       "      <td>1.000000</td>\n",
       "      <td>0.3333</td>\n",
       "      <td>0.1199</td>\n",
       "      <td>-536.0</td>\n",
       "      <td>0.3410</td>\n",
       "    </tr>\n",
       "    <tr>\n",
       "      <th>2</th>\n",
       "      <td>100013</td>\n",
       "      <td>0</td>\n",
       "      <td>0.298046</td>\n",
       "      <td>29.8</td>\n",
       "      <td>2.4220</td>\n",
       "      <td>0.0</td>\n",
       "      <td>0.003832</td>\n",
       "      <td>0.0</td>\n",
       "      <td>6.0</td>\n",
       "      <td>0.0</td>\n",
       "      <td>...</td>\n",
       "      <td>2.5</td>\n",
       "      <td>0.2556</td>\n",
       "      <td>0.2893</td>\n",
       "      <td>-61051.5</td>\n",
       "      <td>67.5</td>\n",
       "      <td>0.935484</td>\n",
       "      <td>1.3210</td>\n",
       "      <td>0.1257</td>\n",
       "      <td>-837.5</td>\n",
       "      <td>0.8184</td>\n",
       "    </tr>\n",
       "  </tbody>\n",
       "</table>\n",
       "<p>3 rows × 220 columns</p>\n",
       "</div>"
      ],
      "text/plain": [
       "   SK_ID_CURR  PRED_CLASSE_CLIENT  SCORE_CLIENT  SCORE_CLIENT_%  \\\n",
       "0      100001                   0      0.403917            40.4   \n",
       "1      100005                   0      0.476231            47.6   \n",
       "2      100013                   0      0.298046            29.8   \n",
       "\n",
       "   CREDIT_TO_ANNUITY_RATIO  AMT_REQ_CREDIT_BUREAU_MON  \\\n",
       "0                   0.4023                        0.0   \n",
       "1                  -0.0482                        0.0   \n",
       "2                   2.4220                        0.0   \n",
       "\n",
       "   AMT_REQ_CREDIT_BUREAU_QRT  INSTAL_AMT_PAYMENT_DIFF_MIN  \\\n",
       "0                   0.000000                          0.0   \n",
       "1                   0.000000                          0.0   \n",
       "2                   0.003832                          0.0   \n",
       "\n",
       "   POS_CNT_INSTALMENT_MIN  PREV_WEEKDAY_APPR_PROCESS_START_SUNDAY_MEAN  ...  \\\n",
       "0                     4.0                                          0.0  ...   \n",
       "1                     9.0                                          0.0  ...   \n",
       "2                     6.0                                          0.0  ...   \n",
       "\n",
       "   PREV_NAME_YIELD_GROUP_MEAN  CC_CNT_DRAWINGS_ATM_CURRENT_MEAN  \\\n",
       "0                         4.0                            0.2106   \n",
       "1                         2.0                            0.2106   \n",
       "2                         2.5                            0.2556   \n",
       "\n",
       "   POS_LOAN_COMPLETED_MEAN  PREV_AMT_DECLINED_SUM  INSTAL_AMT_INSTALMENT_MIN  \\\n",
       "0                   0.4500                 1048.5                     3951.0   \n",
       "1                   0.0909                 4464.0                     4813.2   \n",
       "2                   0.2893               -61051.5                       67.5   \n",
       "\n",
       "   INSTAL_AMT_PAYMENT_RATIO_MEAN  CC_CNT_DRAWINGS_CURRENT_VAR  \\\n",
       "0                       1.000000                       0.3333   \n",
       "1                       1.000000                       0.3333   \n",
       "2                       0.935484                       1.3210   \n",
       "\n",
       "   PREV_LOAN_RATE_MEAN  PREV_DAYS_DECISION_MEAN  EXT_SOURCE_2  \n",
       "0               0.1661                  -1740.0        0.9240  \n",
       "1               0.1199                   -536.0        0.3410  \n",
       "2               0.1257                   -837.5        0.8184  \n",
       "\n",
       "[3 rows x 220 columns]"
      ]
     },
     "execution_count": 68,
     "metadata": {},
     "output_type": "execute_result"
    }
   ],
   "source": [
    "# Ajout des prédictions au dataframe du jeu de test\n",
    "df_dashboard = df_score.merge(test_set, on='SK_ID_CURR', how='left')\n",
    "df_dashboard.head(3)"
   ]
  },
  {
   "cell_type": "code",
   "execution_count": 69,
   "id": "1c0c4b12-f38b-457f-be0e-962292711ffe",
   "metadata": {},
   "outputs": [],
   "source": [
    "# Remplacement des dates de naissances, et de durée d'emploi bruts initiaux\n",
    "df_dashboard['DAYS_BIRTH'] = application_test['DAYS_BIRTH']\n",
    "df_dashboard['DAYS_EMPLOYED'] = application_test['DAYS_EMPLOYED']\n",
    "df_dashboard['AMT_CREDIT'] = application_test['AMT_CREDIT']\n",
    "df_dashboard['AMT_ANNUITY'] = application_test['AMT_ANNUITY']"
   ]
  },
  {
   "cell_type": "code",
   "execution_count": 70,
   "id": "0b71ad54-4484-4477-9e81-47ae5474e290",
   "metadata": {},
   "outputs": [],
   "source": [
    "# Sauvegarde de df_dashboard\n",
    "fic_sav_df_dashboard ='pickle_files/df_dashboard_1.pickle'\n",
    "with open(fic_sav_df_dashboard, 'wb') as f:\n",
    "    pickle.dump(df_dashboard, f, pickle.HIGHEST_PROTOCOL)"
   ]
  },
  {
   "cell_type": "code",
   "execution_count": 71,
   "id": "40092109-9aca-45cd-b418-34b4b8903978",
   "metadata": {},
   "outputs": [
    {
     "data": {
      "text/plain": [
       "(48744, 220)"
      ]
     },
     "execution_count": 71,
     "metadata": {},
     "output_type": "execute_result"
    }
   ],
   "source": [
    "# Chargement du dataframe df_dashboard_1\n",
    "fic_sav_df_dashboard_1 ='pickle_files/df_dashboard_1.pickle'\n",
    "with open(fic_sav_df_dashboard_1, 'rb') as df_dashboard_1:\n",
    "    df_dashboard = pickle.load(df_dashboard_1)\n",
    "df_dashboard.shape"
   ]
  },
  {
   "cell_type": "markdown",
   "id": "5955c799-855e-40d2-b923-93c83b33fe5b",
   "metadata": {},
   "source": [
    "## <span style='background:PowderBlue'>4. Traitement des données informatives</span>"
   ]
  },
  {
   "cell_type": "markdown",
   "id": "433115e4-2d63-4bcd-8470-fb79e9874061",
   "metadata": {},
   "source": [
    "### <span style='background:orange'>4.1. Informations sur le client</span>"
   ]
  },
  {
   "cell_type": "markdown",
   "id": "0527ccc7-3d3a-4e73-b0a6-36e229f0f1c6",
   "metadata": {},
   "source": [
    "Les données informatives sur le client à rendre disponible et lisible pour le chargé de clientèle :\n",
    "\n",
    "| Variable | Description | Dans test_set et non transformé? |\n",
    "| --- | --- | --- |\n",
    "| <p style='text-align: justify; color:blue'>**AMT_INCOME_TOTAL**</p> | <p style='text-align: justify;'>Total des revenus</p> | Non => à  ajouter |\n",
    "| <p style='text-align: justify; color:green'>**AMT_CREDIT**</p> | <p style='text-align: justify;'>Montant du crédit</p> | Oui |\n",
    "| <p style='text-align: justify; color:blue'>**NAME_FAMILY_STATUS**</p> | <p style='text-align: justify;'>Statut familial</p> | Non => à  ajouter |\n",
    "| <p style='text-align: justify; color:orange'>**DAYS_BIRTH**</p> | <p style='text-align: justify;'>Âge</p> | Oui mais passer de jours en années |\n",
    "| <p style='text-align: justify; color:orange'>**DAYS_EMPLOYED**</p> | <p style='text-align: justify;'>Ancienneté dans l'emploi</p> | Oui mais passer de jours en années |\n",
    "| <p style='text-align: justify; color:green'>**AMT_ANNUITY**</p> | <p style='text-align: justify;'>Annuités</p> | Oui |\n",
    "| <p style='text-align: justify; color:blue'>**AMT_GOODS_PRICE**</p> | <p style='text-align: justify;'>Montant du bien pour le crédit</p> | Non => à  ajouter |\n",
    "| <p style='text-align: justify; color:blue'>**CNT_CHILDREN**</p> | <p style='text-align: justify;'>Nombre d'enfants</p> | Non => à  ajouter |\n",
    "| <p style='text-align: justify; color:blue'>**NAME_CONTRACT_TYPE**</p> | <p style='text-align: justify;'>Type de prêt</p> | Non (encodage) => à  ajouter |\n",
    "| <p style='text-align: justify; color:blue'>**NAME_EDUCATION_TYPE**</p> | <p style='text-align: justify;'>Niveau d'éducation</p> | Non (encodage) => à  ajouter |\n",
    "| <p style='text-align: justify; color:blue'>**NAME_HOUSING_TYPE**</p> | <p style='text-align: justify;'>Type de logement</p> | Non (encodage) => à  ajouter |\n",
    "| <p style='text-align: justify; color:blue'>**NAME_INCOME_TYPE**</p> | <p style='text-align: justify;'>Type de revenu</p> | Non (encodage) => à  ajouter |\n",
    "| <p style='text-align: justify; color:orange'>**CODE_GENDER**</p> | <p style='text-align: justify;'>Sexe</p> | Oui mais transformer '0' en 'Féminin' et '1' en 'Masculin' |"
   ]
  },
  {
   "cell_type": "code",
   "execution_count": 72,
   "id": "0e3b6334-ed83-41ea-9c02-7ec567b33aed",
   "metadata": {},
   "outputs": [
    {
     "data": {
      "text/html": [
       "<div>\n",
       "<style scoped>\n",
       "    .dataframe tbody tr th:only-of-type {\n",
       "        vertical-align: middle;\n",
       "    }\n",
       "\n",
       "    .dataframe tbody tr th {\n",
       "        vertical-align: top;\n",
       "    }\n",
       "\n",
       "    .dataframe thead th {\n",
       "        text-align: right;\n",
       "    }\n",
       "</style>\n",
       "<table border=\"1\" class=\"dataframe\">\n",
       "  <thead>\n",
       "    <tr style=\"text-align: right;\">\n",
       "      <th></th>\n",
       "      <th>SK_ID_CURR</th>\n",
       "      <th>AMT_INCOME_TOTAL</th>\n",
       "      <th>NAME_FAMILY_STATUS</th>\n",
       "      <th>AMT_GOODS_PRICE</th>\n",
       "      <th>CNT_CHILDREN</th>\n",
       "      <th>NAME_CONTRACT_TYPE</th>\n",
       "      <th>NAME_EDUCATION_TYPE</th>\n",
       "      <th>NAME_HOUSING_TYPE</th>\n",
       "      <th>NAME_INCOME_TYPE</th>\n",
       "    </tr>\n",
       "  </thead>\n",
       "  <tbody>\n",
       "    <tr>\n",
       "      <th>0</th>\n",
       "      <td>100001</td>\n",
       "      <td>135000.0</td>\n",
       "      <td>Married</td>\n",
       "      <td>450000.0</td>\n",
       "      <td>0</td>\n",
       "      <td>Cash loans</td>\n",
       "      <td>Higher education</td>\n",
       "      <td>House / apartment</td>\n",
       "      <td>Working</td>\n",
       "    </tr>\n",
       "    <tr>\n",
       "      <th>1</th>\n",
       "      <td>100005</td>\n",
       "      <td>99000.0</td>\n",
       "      <td>Married</td>\n",
       "      <td>180000.0</td>\n",
       "      <td>0</td>\n",
       "      <td>Cash loans</td>\n",
       "      <td>Secondary / secondary special</td>\n",
       "      <td>House / apartment</td>\n",
       "      <td>Working</td>\n",
       "    </tr>\n",
       "    <tr>\n",
       "      <th>2</th>\n",
       "      <td>100013</td>\n",
       "      <td>202500.0</td>\n",
       "      <td>Married</td>\n",
       "      <td>630000.0</td>\n",
       "      <td>0</td>\n",
       "      <td>Cash loans</td>\n",
       "      <td>Higher education</td>\n",
       "      <td>House / apartment</td>\n",
       "      <td>Working</td>\n",
       "    </tr>\n",
       "  </tbody>\n",
       "</table>\n",
       "</div>"
      ],
      "text/plain": [
       "   SK_ID_CURR  AMT_INCOME_TOTAL NAME_FAMILY_STATUS  AMT_GOODS_PRICE  \\\n",
       "0      100001          135000.0            Married         450000.0   \n",
       "1      100005           99000.0            Married         180000.0   \n",
       "2      100013          202500.0            Married         630000.0   \n",
       "\n",
       "   CNT_CHILDREN NAME_CONTRACT_TYPE            NAME_EDUCATION_TYPE  \\\n",
       "0             0         Cash loans               Higher education   \n",
       "1             0         Cash loans  Secondary / secondary special   \n",
       "2             0         Cash loans               Higher education   \n",
       "\n",
       "   NAME_HOUSING_TYPE NAME_INCOME_TYPE  \n",
       "0  House / apartment          Working  \n",
       "1  House / apartment          Working  \n",
       "2  House / apartment          Working  "
      ]
     },
     "execution_count": 72,
     "metadata": {},
     "output_type": "execute_result"
    }
   ],
   "source": [
    "df_infos = application_test[['SK_ID_CURR',\n",
    "                            'AMT_INCOME_TOTAL', 'NAME_FAMILY_STATUS',\n",
    "                            'AMT_GOODS_PRICE', 'CNT_CHILDREN',\n",
    "                            'NAME_CONTRACT_TYPE', 'NAME_EDUCATION_TYPE',\n",
    "                            'NAME_HOUSING_TYPE', 'NAME_INCOME_TYPE']]\n",
    "df_infos.head(3)"
   ]
  },
  {
   "cell_type": "code",
   "execution_count": 73,
   "id": "4c2ed59f-5b24-4a90-8a90-be98fe9c9915",
   "metadata": {},
   "outputs": [
    {
     "data": {
      "text/html": [
       "<div>\n",
       "<style scoped>\n",
       "    .dataframe tbody tr th:only-of-type {\n",
       "        vertical-align: middle;\n",
       "    }\n",
       "\n",
       "    .dataframe tbody tr th {\n",
       "        vertical-align: top;\n",
       "    }\n",
       "\n",
       "    .dataframe thead th {\n",
       "        text-align: right;\n",
       "    }\n",
       "</style>\n",
       "<table border=\"1\" class=\"dataframe\">\n",
       "  <thead>\n",
       "    <tr style=\"text-align: right;\">\n",
       "      <th></th>\n",
       "      <th>SK_ID_CURR</th>\n",
       "      <th>AMT_INCOME_TOTAL_x</th>\n",
       "      <th>NAME_FAMILY_STATUS</th>\n",
       "      <th>AMT_GOODS_PRICE</th>\n",
       "      <th>CNT_CHILDREN_x</th>\n",
       "      <th>NAME_CONTRACT_TYPE_x</th>\n",
       "      <th>NAME_EDUCATION_TYPE</th>\n",
       "      <th>NAME_HOUSING_TYPE</th>\n",
       "      <th>NAME_INCOME_TYPE</th>\n",
       "      <th>PRED_CLASSE_CLIENT</th>\n",
       "      <th>...</th>\n",
       "      <th>PREV_NAME_YIELD_GROUP_MEAN</th>\n",
       "      <th>CC_CNT_DRAWINGS_ATM_CURRENT_MEAN</th>\n",
       "      <th>POS_LOAN_COMPLETED_MEAN</th>\n",
       "      <th>PREV_AMT_DECLINED_SUM</th>\n",
       "      <th>INSTAL_AMT_INSTALMENT_MIN</th>\n",
       "      <th>INSTAL_AMT_PAYMENT_RATIO_MEAN</th>\n",
       "      <th>CC_CNT_DRAWINGS_CURRENT_VAR</th>\n",
       "      <th>PREV_LOAN_RATE_MEAN</th>\n",
       "      <th>PREV_DAYS_DECISION_MEAN</th>\n",
       "      <th>EXT_SOURCE_2</th>\n",
       "    </tr>\n",
       "  </thead>\n",
       "  <tbody>\n",
       "    <tr>\n",
       "      <th>0</th>\n",
       "      <td>100001</td>\n",
       "      <td>135000.0</td>\n",
       "      <td>Married</td>\n",
       "      <td>450000.0</td>\n",
       "      <td>0</td>\n",
       "      <td>Cash loans</td>\n",
       "      <td>Higher education</td>\n",
       "      <td>House / apartment</td>\n",
       "      <td>Working</td>\n",
       "      <td>0</td>\n",
       "      <td>...</td>\n",
       "      <td>4.0</td>\n",
       "      <td>0.2106</td>\n",
       "      <td>0.4500</td>\n",
       "      <td>1048.5</td>\n",
       "      <td>3951.0</td>\n",
       "      <td>1.000000</td>\n",
       "      <td>0.3333</td>\n",
       "      <td>0.1661</td>\n",
       "      <td>-1740.0</td>\n",
       "      <td>0.9240</td>\n",
       "    </tr>\n",
       "    <tr>\n",
       "      <th>1</th>\n",
       "      <td>100005</td>\n",
       "      <td>99000.0</td>\n",
       "      <td>Married</td>\n",
       "      <td>180000.0</td>\n",
       "      <td>0</td>\n",
       "      <td>Cash loans</td>\n",
       "      <td>Secondary / secondary special</td>\n",
       "      <td>House / apartment</td>\n",
       "      <td>Working</td>\n",
       "      <td>0</td>\n",
       "      <td>...</td>\n",
       "      <td>2.0</td>\n",
       "      <td>0.2106</td>\n",
       "      <td>0.0909</td>\n",
       "      <td>4464.0</td>\n",
       "      <td>4813.2</td>\n",
       "      <td>1.000000</td>\n",
       "      <td>0.3333</td>\n",
       "      <td>0.1199</td>\n",
       "      <td>-536.0</td>\n",
       "      <td>0.3410</td>\n",
       "    </tr>\n",
       "    <tr>\n",
       "      <th>2</th>\n",
       "      <td>100013</td>\n",
       "      <td>202500.0</td>\n",
       "      <td>Married</td>\n",
       "      <td>630000.0</td>\n",
       "      <td>0</td>\n",
       "      <td>Cash loans</td>\n",
       "      <td>Higher education</td>\n",
       "      <td>House / apartment</td>\n",
       "      <td>Working</td>\n",
       "      <td>0</td>\n",
       "      <td>...</td>\n",
       "      <td>2.5</td>\n",
       "      <td>0.2556</td>\n",
       "      <td>0.2893</td>\n",
       "      <td>-61051.5</td>\n",
       "      <td>67.5</td>\n",
       "      <td>0.935484</td>\n",
       "      <td>1.3210</td>\n",
       "      <td>0.1257</td>\n",
       "      <td>-837.5</td>\n",
       "      <td>0.8184</td>\n",
       "    </tr>\n",
       "  </tbody>\n",
       "</table>\n",
       "<p>3 rows × 228 columns</p>\n",
       "</div>"
      ],
      "text/plain": [
       "   SK_ID_CURR  AMT_INCOME_TOTAL_x NAME_FAMILY_STATUS  AMT_GOODS_PRICE  \\\n",
       "0      100001            135000.0            Married         450000.0   \n",
       "1      100005             99000.0            Married         180000.0   \n",
       "2      100013            202500.0            Married         630000.0   \n",
       "\n",
       "   CNT_CHILDREN_x NAME_CONTRACT_TYPE_x            NAME_EDUCATION_TYPE  \\\n",
       "0               0           Cash loans               Higher education   \n",
       "1               0           Cash loans  Secondary / secondary special   \n",
       "2               0           Cash loans               Higher education   \n",
       "\n",
       "   NAME_HOUSING_TYPE NAME_INCOME_TYPE  PRED_CLASSE_CLIENT  ...  \\\n",
       "0  House / apartment          Working                   0  ...   \n",
       "1  House / apartment          Working                   0  ...   \n",
       "2  House / apartment          Working                   0  ...   \n",
       "\n",
       "   PREV_NAME_YIELD_GROUP_MEAN  CC_CNT_DRAWINGS_ATM_CURRENT_MEAN  \\\n",
       "0                         4.0                            0.2106   \n",
       "1                         2.0                            0.2106   \n",
       "2                         2.5                            0.2556   \n",
       "\n",
       "   POS_LOAN_COMPLETED_MEAN  PREV_AMT_DECLINED_SUM  INSTAL_AMT_INSTALMENT_MIN  \\\n",
       "0                   0.4500                 1048.5                     3951.0   \n",
       "1                   0.0909                 4464.0                     4813.2   \n",
       "2                   0.2893               -61051.5                       67.5   \n",
       "\n",
       "   INSTAL_AMT_PAYMENT_RATIO_MEAN  CC_CNT_DRAWINGS_CURRENT_VAR  \\\n",
       "0                       1.000000                       0.3333   \n",
       "1                       1.000000                       0.3333   \n",
       "2                       0.935484                       1.3210   \n",
       "\n",
       "   PREV_LOAN_RATE_MEAN  PREV_DAYS_DECISION_MEAN  EXT_SOURCE_2  \n",
       "0               0.1661                  -1740.0        0.9240  \n",
       "1               0.1199                   -536.0        0.3410  \n",
       "2               0.1257                   -837.5        0.8184  \n",
       "\n",
       "[3 rows x 228 columns]"
      ]
     },
     "execution_count": 73,
     "metadata": {},
     "output_type": "execute_result"
    }
   ],
   "source": [
    "# Ajout des varaibles manquantes au dataframe du dashboard\n",
    "df_dashboard = df_infos.merge(df_dashboard, on='SK_ID_CURR', how='left')\n",
    "df_dashboard.head(3)"
   ]
  },
  {
   "cell_type": "code",
   "execution_count": 74,
   "id": "2857408c-8efa-4fa8-b1ba-3ddb74caa30c",
   "metadata": {},
   "outputs": [],
   "source": [
    "# Retirer les caractères '_x' des noms de colonnes\n",
    "df_dashboard.columns = df_dashboard.columns.str.replace('_x', '')"
   ]
  },
  {
   "cell_type": "code",
   "execution_count": 75,
   "id": "d16e949a-31e3-4204-b8fd-02b9b29a87c3",
   "metadata": {},
   "outputs": [
    {
     "data": {
      "text/html": [
       "<div>\n",
       "<style scoped>\n",
       "    .dataframe tbody tr th:only-of-type {\n",
       "        vertical-align: middle;\n",
       "    }\n",
       "\n",
       "    .dataframe tbody tr th {\n",
       "        vertical-align: top;\n",
       "    }\n",
       "\n",
       "    .dataframe thead th {\n",
       "        text-align: right;\n",
       "    }\n",
       "</style>\n",
       "<table border=\"1\" class=\"dataframe\">\n",
       "  <thead>\n",
       "    <tr style=\"text-align: right;\">\n",
       "      <th></th>\n",
       "      <th>SK_ID_CURR</th>\n",
       "      <th>AMT_INCOME_TOTAL</th>\n",
       "      <th>NAME_FAMILY_STATUS</th>\n",
       "      <th>AMT_GOODS_PRICE</th>\n",
       "      <th>CNT_CHILDREN</th>\n",
       "      <th>NAME_CONTRACT_TYPE</th>\n",
       "      <th>NAME_EDUCATION_TYPE</th>\n",
       "      <th>NAME_HOUSING_TYPE</th>\n",
       "      <th>NAME_INCOME_TYPE</th>\n",
       "      <th>PRED_CLASSE_CLIENT</th>\n",
       "      <th>...</th>\n",
       "      <th>PREV_NAME_YIELD_GROUP_MEAN</th>\n",
       "      <th>CC_CNT_DRAWINGS_ATM_CURRENT_MEAN</th>\n",
       "      <th>POS_LOAN_COMPLETED_MEAN</th>\n",
       "      <th>PREV_AMT_DECLINED_SUM</th>\n",
       "      <th>INSTAL_AMT_INSTALMENT_MIN</th>\n",
       "      <th>INSTAL_AMT_PAYMENT_RATIO_MEAN</th>\n",
       "      <th>CC_CNT_DRAWINGS_CURRENT_VAR</th>\n",
       "      <th>PREV_LOAN_RATE_MEAN</th>\n",
       "      <th>PREV_DAYS_DECISION_MEAN</th>\n",
       "      <th>EXT_SOURCE_2</th>\n",
       "    </tr>\n",
       "  </thead>\n",
       "  <tbody>\n",
       "    <tr>\n",
       "      <th>0</th>\n",
       "      <td>100001</td>\n",
       "      <td>135000.0</td>\n",
       "      <td>Married</td>\n",
       "      <td>450000.0</td>\n",
       "      <td>0</td>\n",
       "      <td>Cash loans</td>\n",
       "      <td>Higher education</td>\n",
       "      <td>House / apartment</td>\n",
       "      <td>Working</td>\n",
       "      <td>0</td>\n",
       "      <td>...</td>\n",
       "      <td>4.0</td>\n",
       "      <td>0.2106</td>\n",
       "      <td>0.4500</td>\n",
       "      <td>1048.5</td>\n",
       "      <td>3951.0</td>\n",
       "      <td>1.000000</td>\n",
       "      <td>0.3333</td>\n",
       "      <td>0.1661</td>\n",
       "      <td>-1740.0</td>\n",
       "      <td>0.9240</td>\n",
       "    </tr>\n",
       "    <tr>\n",
       "      <th>1</th>\n",
       "      <td>100005</td>\n",
       "      <td>99000.0</td>\n",
       "      <td>Married</td>\n",
       "      <td>180000.0</td>\n",
       "      <td>0</td>\n",
       "      <td>Cash loans</td>\n",
       "      <td>Secondary / secondary special</td>\n",
       "      <td>House / apartment</td>\n",
       "      <td>Working</td>\n",
       "      <td>0</td>\n",
       "      <td>...</td>\n",
       "      <td>2.0</td>\n",
       "      <td>0.2106</td>\n",
       "      <td>0.0909</td>\n",
       "      <td>4464.0</td>\n",
       "      <td>4813.2</td>\n",
       "      <td>1.000000</td>\n",
       "      <td>0.3333</td>\n",
       "      <td>0.1199</td>\n",
       "      <td>-536.0</td>\n",
       "      <td>0.3410</td>\n",
       "    </tr>\n",
       "    <tr>\n",
       "      <th>2</th>\n",
       "      <td>100013</td>\n",
       "      <td>202500.0</td>\n",
       "      <td>Married</td>\n",
       "      <td>630000.0</td>\n",
       "      <td>0</td>\n",
       "      <td>Cash loans</td>\n",
       "      <td>Higher education</td>\n",
       "      <td>House / apartment</td>\n",
       "      <td>Working</td>\n",
       "      <td>0</td>\n",
       "      <td>...</td>\n",
       "      <td>2.5</td>\n",
       "      <td>0.2556</td>\n",
       "      <td>0.2893</td>\n",
       "      <td>-61051.5</td>\n",
       "      <td>67.5</td>\n",
       "      <td>0.935484</td>\n",
       "      <td>1.3210</td>\n",
       "      <td>0.1257</td>\n",
       "      <td>-837.5</td>\n",
       "      <td>0.8184</td>\n",
       "    </tr>\n",
       "  </tbody>\n",
       "</table>\n",
       "<p>3 rows × 228 columns</p>\n",
       "</div>"
      ],
      "text/plain": [
       "   SK_ID_CURR  AMT_INCOME_TOTAL NAME_FAMILY_STATUS  AMT_GOODS_PRICE  \\\n",
       "0      100001          135000.0            Married         450000.0   \n",
       "1      100005           99000.0            Married         180000.0   \n",
       "2      100013          202500.0            Married         630000.0   \n",
       "\n",
       "   CNT_CHILDREN NAME_CONTRACT_TYPE            NAME_EDUCATION_TYPE  \\\n",
       "0             0         Cash loans               Higher education   \n",
       "1             0         Cash loans  Secondary / secondary special   \n",
       "2             0         Cash loans               Higher education   \n",
       "\n",
       "   NAME_HOUSING_TYPE NAME_INCOME_TYPE  PRED_CLASSE_CLIENT  ...  \\\n",
       "0  House / apartment          Working                   0  ...   \n",
       "1  House / apartment          Working                   0  ...   \n",
       "2  House / apartment          Working                   0  ...   \n",
       "\n",
       "   PREV_NAME_YIELD_GROUP_MEAN  CC_CNT_DRAWINGS_ATM_CURRENT_MEAN  \\\n",
       "0                         4.0                            0.2106   \n",
       "1                         2.0                            0.2106   \n",
       "2                         2.5                            0.2556   \n",
       "\n",
       "   POS_LOAN_COMPLETED_MEAN  PREV_AMT_DECLINED_SUM  INSTAL_AMT_INSTALMENT_MIN  \\\n",
       "0                   0.4500                 1048.5                     3951.0   \n",
       "1                   0.0909                 4464.0                     4813.2   \n",
       "2                   0.2893               -61051.5                       67.5   \n",
       "\n",
       "   INSTAL_AMT_PAYMENT_RATIO_MEAN  CC_CNT_DRAWINGS_CURRENT_VAR  \\\n",
       "0                       1.000000                       0.3333   \n",
       "1                       1.000000                       0.3333   \n",
       "2                       0.935484                       1.3210   \n",
       "\n",
       "   PREV_LOAN_RATE_MEAN  PREV_DAYS_DECISION_MEAN  EXT_SOURCE_2  \n",
       "0               0.1661                  -1740.0        0.9240  \n",
       "1               0.1199                   -536.0        0.3410  \n",
       "2               0.1257                   -837.5        0.8184  \n",
       "\n",
       "[3 rows x 228 columns]"
      ]
     },
     "execution_count": 75,
     "metadata": {},
     "output_type": "execute_result"
    }
   ],
   "source": [
    "df_dashboard.head(3)"
   ]
  },
  {
   "cell_type": "code",
   "execution_count": null,
   "id": "f26ab175-f46e-4334-8766-3641f22e052f",
   "metadata": {},
   "outputs": [],
   "source": []
  },
  {
   "cell_type": "markdown",
   "id": "705a479c-f5b1-4c7f-9d27-00bbd05e700f",
   "metadata": {},
   "source": [
    "**Modification des dates en années au lieu de jours (positif)**"
   ]
  },
  {
   "cell_type": "code",
   "execution_count": 76,
   "id": "7415b87a-5f39-4ad1-982a-c9a10308f06d",
   "metadata": {},
   "outputs": [],
   "source": [
    "# Transformer DAYS_BIRTH en années positives\n",
    "df_dashboard['YEAR_BIRTH'] = \\\n",
    "    np.trunc(np.abs(df_dashboard['DAYS_BIRTH'] / 365)).astype('int8')"
   ]
  },
  {
   "cell_type": "code",
   "execution_count": 77,
   "id": "e818750f-4f84-4c64-b1ca-e0d586ed241d",
   "metadata": {},
   "outputs": [],
   "source": [
    "# Transformer DAYS_EMPLOYED en années positives\n",
    "df_dashboard['YEAR_EMPLOYED'] = \\\n",
    "    np.trunc(np.abs(df_dashboard['DAYS_EMPLOYED'] / 365)).astype('int8')"
   ]
  },
  {
   "cell_type": "code",
   "execution_count": 78,
   "id": "04061ce1-5656-414a-b1f6-3b8c9fd2dc77",
   "metadata": {},
   "outputs": [],
   "source": [
    "# Transformer sexe : 0 = Féminin et 1 = Masculin\n",
    "df_dashboard['SEXE'] = ['Féminin' if row == 0 else 'Masculin'\n",
    "                        for row in df_dashboard['CODE_GENDER']] "
   ]
  },
  {
   "cell_type": "code",
   "execution_count": 79,
   "id": "802539ce-36d8-4b40-b210-84a63089f3d5",
   "metadata": {},
   "outputs": [
    {
     "data": {
      "text/html": [
       "<div>\n",
       "<style scoped>\n",
       "    .dataframe tbody tr th:only-of-type {\n",
       "        vertical-align: middle;\n",
       "    }\n",
       "\n",
       "    .dataframe tbody tr th {\n",
       "        vertical-align: top;\n",
       "    }\n",
       "\n",
       "    .dataframe thead th {\n",
       "        text-align: right;\n",
       "    }\n",
       "</style>\n",
       "<table border=\"1\" class=\"dataframe\">\n",
       "  <thead>\n",
       "    <tr style=\"text-align: right;\">\n",
       "      <th></th>\n",
       "      <th>SK_ID_CURR</th>\n",
       "      <th>AMT_INCOME_TOTAL</th>\n",
       "      <th>NAME_FAMILY_STATUS</th>\n",
       "      <th>AMT_GOODS_PRICE</th>\n",
       "      <th>CNT_CHILDREN</th>\n",
       "      <th>NAME_CONTRACT_TYPE</th>\n",
       "      <th>NAME_EDUCATION_TYPE</th>\n",
       "      <th>NAME_HOUSING_TYPE</th>\n",
       "      <th>NAME_INCOME_TYPE</th>\n",
       "      <th>PRED_CLASSE_CLIENT</th>\n",
       "      <th>...</th>\n",
       "      <th>PREV_AMT_DECLINED_SUM</th>\n",
       "      <th>INSTAL_AMT_INSTALMENT_MIN</th>\n",
       "      <th>INSTAL_AMT_PAYMENT_RATIO_MEAN</th>\n",
       "      <th>CC_CNT_DRAWINGS_CURRENT_VAR</th>\n",
       "      <th>PREV_LOAN_RATE_MEAN</th>\n",
       "      <th>PREV_DAYS_DECISION_MEAN</th>\n",
       "      <th>EXT_SOURCE_2</th>\n",
       "      <th>YEAR_BIRTH</th>\n",
       "      <th>YEAR_EMPLOYED</th>\n",
       "      <th>SEXE</th>\n",
       "    </tr>\n",
       "  </thead>\n",
       "  <tbody>\n",
       "    <tr>\n",
       "      <th>0</th>\n",
       "      <td>100001</td>\n",
       "      <td>135000.0</td>\n",
       "      <td>Married</td>\n",
       "      <td>450000.0</td>\n",
       "      <td>0</td>\n",
       "      <td>Cash loans</td>\n",
       "      <td>Higher education</td>\n",
       "      <td>House / apartment</td>\n",
       "      <td>Working</td>\n",
       "      <td>0</td>\n",
       "      <td>...</td>\n",
       "      <td>1048.5</td>\n",
       "      <td>3951.0</td>\n",
       "      <td>1.000000</td>\n",
       "      <td>0.3333</td>\n",
       "      <td>0.1661</td>\n",
       "      <td>-1740.0</td>\n",
       "      <td>0.9240</td>\n",
       "      <td>52</td>\n",
       "      <td>6</td>\n",
       "      <td>Féminin</td>\n",
       "    </tr>\n",
       "    <tr>\n",
       "      <th>1</th>\n",
       "      <td>100005</td>\n",
       "      <td>99000.0</td>\n",
       "      <td>Married</td>\n",
       "      <td>180000.0</td>\n",
       "      <td>0</td>\n",
       "      <td>Cash loans</td>\n",
       "      <td>Secondary / secondary special</td>\n",
       "      <td>House / apartment</td>\n",
       "      <td>Working</td>\n",
       "      <td>0</td>\n",
       "      <td>...</td>\n",
       "      <td>4464.0</td>\n",
       "      <td>4813.2</td>\n",
       "      <td>1.000000</td>\n",
       "      <td>0.3333</td>\n",
       "      <td>0.1199</td>\n",
       "      <td>-536.0</td>\n",
       "      <td>0.3410</td>\n",
       "      <td>49</td>\n",
       "      <td>12</td>\n",
       "      <td>Masculin</td>\n",
       "    </tr>\n",
       "    <tr>\n",
       "      <th>2</th>\n",
       "      <td>100013</td>\n",
       "      <td>202500.0</td>\n",
       "      <td>Married</td>\n",
       "      <td>630000.0</td>\n",
       "      <td>0</td>\n",
       "      <td>Cash loans</td>\n",
       "      <td>Higher education</td>\n",
       "      <td>House / apartment</td>\n",
       "      <td>Working</td>\n",
       "      <td>0</td>\n",
       "      <td>...</td>\n",
       "      <td>-61051.5</td>\n",
       "      <td>67.5</td>\n",
       "      <td>0.935484</td>\n",
       "      <td>1.3210</td>\n",
       "      <td>0.1257</td>\n",
       "      <td>-837.5</td>\n",
       "      <td>0.8184</td>\n",
       "      <td>54</td>\n",
       "      <td>12</td>\n",
       "      <td>Masculin</td>\n",
       "    </tr>\n",
       "  </tbody>\n",
       "</table>\n",
       "<p>3 rows × 231 columns</p>\n",
       "</div>"
      ],
      "text/plain": [
       "   SK_ID_CURR  AMT_INCOME_TOTAL NAME_FAMILY_STATUS  AMT_GOODS_PRICE  \\\n",
       "0      100001          135000.0            Married         450000.0   \n",
       "1      100005           99000.0            Married         180000.0   \n",
       "2      100013          202500.0            Married         630000.0   \n",
       "\n",
       "   CNT_CHILDREN NAME_CONTRACT_TYPE            NAME_EDUCATION_TYPE  \\\n",
       "0             0         Cash loans               Higher education   \n",
       "1             0         Cash loans  Secondary / secondary special   \n",
       "2             0         Cash loans               Higher education   \n",
       "\n",
       "   NAME_HOUSING_TYPE NAME_INCOME_TYPE  PRED_CLASSE_CLIENT  ...  \\\n",
       "0  House / apartment          Working                   0  ...   \n",
       "1  House / apartment          Working                   0  ...   \n",
       "2  House / apartment          Working                   0  ...   \n",
       "\n",
       "   PREV_AMT_DECLINED_SUM  INSTAL_AMT_INSTALMENT_MIN  \\\n",
       "0                 1048.5                     3951.0   \n",
       "1                 4464.0                     4813.2   \n",
       "2               -61051.5                       67.5   \n",
       "\n",
       "   INSTAL_AMT_PAYMENT_RATIO_MEAN  CC_CNT_DRAWINGS_CURRENT_VAR  \\\n",
       "0                       1.000000                       0.3333   \n",
       "1                       1.000000                       0.3333   \n",
       "2                       0.935484                       1.3210   \n",
       "\n",
       "   PREV_LOAN_RATE_MEAN  PREV_DAYS_DECISION_MEAN  EXT_SOURCE_2  YEAR_BIRTH  \\\n",
       "0               0.1661                  -1740.0        0.9240          52   \n",
       "1               0.1199                   -536.0        0.3410          49   \n",
       "2               0.1257                   -837.5        0.8184          54   \n",
       "\n",
       "   YEAR_EMPLOYED      SEXE  \n",
       "0              6   Féminin  \n",
       "1             12  Masculin  \n",
       "2             12  Masculin  \n",
       "\n",
       "[3 rows x 231 columns]"
      ]
     },
     "execution_count": 79,
     "metadata": {},
     "output_type": "execute_result"
    }
   ],
   "source": [
    "df_dashboard.head(3)"
   ]
  },
  {
   "cell_type": "code",
   "execution_count": 81,
   "id": "1900afb5-0f11-436c-b47a-7feddb4d6da1",
   "metadata": {},
   "outputs": [],
   "source": [
    "# Sauvegarde de df_dashboard_2\n",
    "fic_sav_df_dashboard ='pickle_files/df_dashboard_2.pickle'\n",
    "with open(fic_sav_df_dashboard, 'wb') as f:\n",
    "    pickle.dump(df_dashboard, f, pickle.HIGHEST_PROTOCOL)"
   ]
  },
  {
   "cell_type": "code",
   "execution_count": 82,
   "id": "3777ecad-180b-4c81-a132-0a1290a0f9c9",
   "metadata": {},
   "outputs": [
    {
     "data": {
      "text/plain": [
       "(48744, 231)"
      ]
     },
     "execution_count": 82,
     "metadata": {},
     "output_type": "execute_result"
    }
   ],
   "source": [
    "# Chargement du dataframe df_dashboard_2\n",
    "fic_sav_df_dashboard_2 ='pickle_files/df_dashboard_2.pickle'\n",
    "with open(fic_sav_df_dashboard_2, 'rb') as df_dashboard_2:\n",
    "    df_dashboard = pickle.load(df_dashboard_2)\n",
    "df_dashboard.shape"
   ]
  },
  {
   "cell_type": "code",
   "execution_count": 83,
   "id": "9fcf725a-bfb1-4990-aa4a-f1a3dd7ba8a7",
   "metadata": {},
   "outputs": [],
   "source": [
    "# Traits stricts du client\n",
    "df_info_client = df_dashboard[['SK_ID_CURR', 'YEAR_BIRTH', 'SEXE',\n",
    "                               'NAME_FAMILY_STATUS',\n",
    "                               'CNT_CHILDREN', 'NAME_EDUCATION_TYPE',\n",
    "                               'NAME_INCOME_TYPE', 'YEAR_EMPLOYED',\n",
    "                               'AMT_INCOME_TOTAL']]"
   ]
  },
  {
   "cell_type": "code",
   "execution_count": 84,
   "id": "1ca0a82b-8ea4-419a-af4d-735c22e525d6",
   "metadata": {},
   "outputs": [
    {
     "data": {
      "text/html": [
       "<div>\n",
       "<style scoped>\n",
       "    .dataframe tbody tr th:only-of-type {\n",
       "        vertical-align: middle;\n",
       "    }\n",
       "\n",
       "    .dataframe tbody tr th {\n",
       "        vertical-align: top;\n",
       "    }\n",
       "\n",
       "    .dataframe thead th {\n",
       "        text-align: right;\n",
       "    }\n",
       "</style>\n",
       "<table border=\"1\" class=\"dataframe\">\n",
       "  <thead>\n",
       "    <tr style=\"text-align: right;\">\n",
       "      <th></th>\n",
       "      <th>SK_ID_CURR</th>\n",
       "      <th>Âge (ans)</th>\n",
       "      <th>Sexe</th>\n",
       "      <th>Statut familial</th>\n",
       "      <th>Nbre enfants</th>\n",
       "      <th>Niveau éducation</th>\n",
       "      <th>Type revenu</th>\n",
       "      <th>Ancienneté emploi</th>\n",
       "      <th>Revenus ($)</th>\n",
       "    </tr>\n",
       "  </thead>\n",
       "  <tbody>\n",
       "    <tr>\n",
       "      <th>0</th>\n",
       "      <td>100001</td>\n",
       "      <td>52</td>\n",
       "      <td>Féminin</td>\n",
       "      <td>Married</td>\n",
       "      <td>0</td>\n",
       "      <td>Higher education</td>\n",
       "      <td>Working</td>\n",
       "      <td>6</td>\n",
       "      <td>135000.0</td>\n",
       "    </tr>\n",
       "    <tr>\n",
       "      <th>1</th>\n",
       "      <td>100005</td>\n",
       "      <td>49</td>\n",
       "      <td>Masculin</td>\n",
       "      <td>Married</td>\n",
       "      <td>0</td>\n",
       "      <td>Secondary / secondary special</td>\n",
       "      <td>Working</td>\n",
       "      <td>12</td>\n",
       "      <td>99000.0</td>\n",
       "    </tr>\n",
       "    <tr>\n",
       "      <th>2</th>\n",
       "      <td>100013</td>\n",
       "      <td>54</td>\n",
       "      <td>Masculin</td>\n",
       "      <td>Married</td>\n",
       "      <td>0</td>\n",
       "      <td>Higher education</td>\n",
       "      <td>Working</td>\n",
       "      <td>12</td>\n",
       "      <td>202500.0</td>\n",
       "    </tr>\n",
       "  </tbody>\n",
       "</table>\n",
       "</div>"
      ],
      "text/plain": [
       "   SK_ID_CURR  Âge (ans)      Sexe Statut familial  Nbre enfants  \\\n",
       "0      100001         52   Féminin         Married             0   \n",
       "1      100005         49  Masculin         Married             0   \n",
       "2      100013         54  Masculin         Married             0   \n",
       "\n",
       "                Niveau éducation Type revenu  Ancienneté emploi  Revenus ($)  \n",
       "0               Higher education     Working                  6     135000.0  \n",
       "1  Secondary / secondary special     Working                 12      99000.0  \n",
       "2               Higher education     Working                 12     202500.0  "
      ]
     },
     "execution_count": 84,
     "metadata": {},
     "output_type": "execute_result"
    }
   ],
   "source": [
    "df_info_client = df_info_client.rename(columns = {\n",
    "     'YEAR_BIRTH' : 'Âge (ans)',\n",
    "     'SEXE' : 'Sexe',\n",
    "     'NAME_FAMILY_STATUS' : 'Statut familial',\n",
    "     'CNT_CHILDREN' : 'Nbre enfants',\n",
    "     'NAME_EDUCATION_TYPE' : 'Niveau éducation',\n",
    "     'NAME_INCOME_TYPE' : 'Type revenu',\n",
    "     'YEAR_EMPLOYED' : 'Ancienneté emploi',\n",
    "     'AMT_INCOME_TOTAL' : 'Revenus ($)'})\n",
    "df_info_client.head(3)"
   ]
  },
  {
   "cell_type": "code",
   "execution_count": 85,
   "id": "d618b5be-8352-4b43-8483-b67872938154",
   "metadata": {},
   "outputs": [
    {
     "name": "stdout",
     "output_type": "stream",
     "text": [
      "-------------------------------------------------------------------------------\n",
      "Memory usage du dataframe: 3.07 MB\n",
      "Memory usage après optimization: 2.37 MB\n",
      "Diminution de 22.7%\n",
      "-------------------------------------------------------------------------------\n"
     ]
    }
   ],
   "source": [
    "# Réduction de la taille des variables pour optimisation mémoire\n",
    "df_info_client = fonctions_data.reduce_mem_usage(df_info_client)"
   ]
  },
  {
   "cell_type": "code",
   "execution_count": 86,
   "id": "19e8110d-4a82-4199-b1f3-5b0a8a3d4de5",
   "metadata": {},
   "outputs": [],
   "source": [
    "# Sauvegarde de df_info_client\n",
    "fic_sav_df_info_client ='pickle_files/df_info_client.pickle'\n",
    "with open(fic_sav_df_info_client, 'wb') as f:\n",
    "    pickle.dump(df_info_client, f, pickle.HIGHEST_PROTOCOL)"
   ]
  },
  {
   "cell_type": "code",
   "execution_count": 87,
   "id": "7e0741e5-ccba-42f3-a384-21bfcf5524e7",
   "metadata": {},
   "outputs": [
    {
     "data": {
      "text/plain": [
       "(48744, 9)"
      ]
     },
     "execution_count": 87,
     "metadata": {},
     "output_type": "execute_result"
    }
   ],
   "source": [
    "# Chargement du dataframe df_info_client\n",
    "fic_sav_df_info_client ='pickle_files/df_info_client.pickle'\n",
    "with open(fic_sav_df_info_client, 'rb') as df_info_client:\n",
    "    df_info_client = pickle.load(df_info_client)\n",
    "df_info_client.shape"
   ]
  },
  {
   "cell_type": "code",
   "execution_count": 88,
   "id": "ccebfbfd-fcfc-4b84-bf91-7c96d87b711e",
   "metadata": {},
   "outputs": [],
   "source": [
    "filename = 'pickle_files/df_info_client.pickle'\n",
    "outfile = open(filename,'wb')\n",
    "pickle.dump(df_info_client, outfile)\n",
    "outfile.close()"
   ]
  },
  {
   "cell_type": "code",
   "execution_count": 89,
   "id": "be33c9e4-433f-4385-9455-3735e18f7e15",
   "metadata": {},
   "outputs": [
    {
     "data": {
      "text/html": [
       "<style type=\"text/css\">\n",
       "</style>\n",
       "<table id=\"T_029ed\">\n",
       "  <thead>\n",
       "    <tr>\n",
       "      <th id=\"T_029ed_level0_col0\" class=\"col_heading level0 col0\" >Sexe</th>\n",
       "      <th id=\"T_029ed_level0_col1\" class=\"col_heading level0 col1\" >Statut familial</th>\n",
       "      <th id=\"T_029ed_level0_col2\" class=\"col_heading level0 col2\" >Nbre enfants</th>\n",
       "      <th id=\"T_029ed_level0_col3\" class=\"col_heading level0 col3\" >Niveau éducation</th>\n",
       "      <th id=\"T_029ed_level0_col4\" class=\"col_heading level0 col4\" >Type revenu</th>\n",
       "      <th id=\"T_029ed_level0_col5\" class=\"col_heading level0 col5\" >Ancienneté emploi</th>\n",
       "      <th id=\"T_029ed_level0_col6\" class=\"col_heading level0 col6\" >Revenus ($)</th>\n",
       "    </tr>\n",
       "  </thead>\n",
       "  <tbody>\n",
       "    <tr>\n",
       "      <td id=\"T_029ed_row0_col0\" class=\"data row0 col0\" >Féminin</td>\n",
       "      <td id=\"T_029ed_row0_col1\" class=\"data row0 col1\" >Married</td>\n",
       "      <td id=\"T_029ed_row0_col2\" class=\"data row0 col2\" >0</td>\n",
       "      <td id=\"T_029ed_row0_col3\" class=\"data row0 col3\" >Higher education</td>\n",
       "      <td id=\"T_029ed_row0_col4\" class=\"data row0 col4\" >Working</td>\n",
       "      <td id=\"T_029ed_row0_col5\" class=\"data row0 col5\" >6</td>\n",
       "      <td id=\"T_029ed_row0_col6\" class=\"data row0 col6\" >135000.000000</td>\n",
       "    </tr>\n",
       "  </tbody>\n",
       "</table>\n"
      ],
      "text/plain": [
       "<pandas.io.formats.style.Styler at 0x265d45678e0>"
      ]
     },
     "execution_count": 89,
     "metadata": {},
     "output_type": "execute_result"
    }
   ],
   "source": [
    "# Infos principales client\n",
    "client_id = 100001\n",
    "client_info = df_info_client[df_info_client['SK_ID_CURR'\n",
    "                                           ] == client_id].iloc[:, 2:]\n",
    "client_info.style.hide_index()"
   ]
  },
  {
   "cell_type": "markdown",
   "id": "8e8cd8ff-36e4-46ff-b787-563934344321",
   "metadata": {},
   "source": [
    "##### **Informations sur la demande de prêt du client**"
   ]
  },
  {
   "cell_type": "code",
   "execution_count": 90,
   "id": "90841fdb-41a4-4fbd-8487-1c593a8f6018",
   "metadata": {},
   "outputs": [],
   "source": [
    "# Informations sur la demande prêt\n",
    "df_pret_client = df_dashboard[['SK_ID_CURR', 'NAME_CONTRACT_TYPE',\n",
    "                               'AMT_CREDIT',\n",
    "                               'AMT_ANNUITY', 'AMT_GOODS_PRICE',\n",
    "                               'NAME_HOUSING_TYPE']]"
   ]
  },
  {
   "cell_type": "code",
   "execution_count": 91,
   "id": "29cc2207-f112-44a9-b6bb-eef5845c8b31",
   "metadata": {},
   "outputs": [
    {
     "data": {
      "text/html": [
       "<div>\n",
       "<style scoped>\n",
       "    .dataframe tbody tr th:only-of-type {\n",
       "        vertical-align: middle;\n",
       "    }\n",
       "\n",
       "    .dataframe tbody tr th {\n",
       "        vertical-align: top;\n",
       "    }\n",
       "\n",
       "    .dataframe thead th {\n",
       "        text-align: right;\n",
       "    }\n",
       "</style>\n",
       "<table border=\"1\" class=\"dataframe\">\n",
       "  <thead>\n",
       "    <tr style=\"text-align: right;\">\n",
       "      <th></th>\n",
       "      <th>SK_ID_CURR</th>\n",
       "      <th>Type de prêt</th>\n",
       "      <th>Montant du crédit ($)</th>\n",
       "      <th>Annuités ($)</th>\n",
       "      <th>Montant du bien ($)</th>\n",
       "      <th>Type de logement</th>\n",
       "    </tr>\n",
       "  </thead>\n",
       "  <tbody>\n",
       "    <tr>\n",
       "      <th>0</th>\n",
       "      <td>100001</td>\n",
       "      <td>Cash loans</td>\n",
       "      <td>568800.0</td>\n",
       "      <td>20560.5</td>\n",
       "      <td>450000.0</td>\n",
       "      <td>House / apartment</td>\n",
       "    </tr>\n",
       "    <tr>\n",
       "      <th>1</th>\n",
       "      <td>100005</td>\n",
       "      <td>Cash loans</td>\n",
       "      <td>222768.0</td>\n",
       "      <td>17370.0</td>\n",
       "      <td>180000.0</td>\n",
       "      <td>House / apartment</td>\n",
       "    </tr>\n",
       "    <tr>\n",
       "      <th>2</th>\n",
       "      <td>100013</td>\n",
       "      <td>Cash loans</td>\n",
       "      <td>663264.0</td>\n",
       "      <td>69777.0</td>\n",
       "      <td>630000.0</td>\n",
       "      <td>House / apartment</td>\n",
       "    </tr>\n",
       "  </tbody>\n",
       "</table>\n",
       "</div>"
      ],
      "text/plain": [
       "   SK_ID_CURR Type de prêt  Montant du crédit ($)  Annuités ($)  \\\n",
       "0      100001   Cash loans               568800.0       20560.5   \n",
       "1      100005   Cash loans               222768.0       17370.0   \n",
       "2      100013   Cash loans               663264.0       69777.0   \n",
       "\n",
       "   Montant du bien ($)   Type de logement  \n",
       "0             450000.0  House / apartment  \n",
       "1             180000.0  House / apartment  \n",
       "2             630000.0  House / apartment  "
      ]
     },
     "execution_count": 91,
     "metadata": {},
     "output_type": "execute_result"
    }
   ],
   "source": [
    "df_pret_client = df_pret_client.rename(columns = {\n",
    "     'NAME_CONTRACT_TYPE' : 'Type de prêt',\n",
    "     'AMT_CREDIT' : 'Montant du crédit ($)',\n",
    "     'AMT_ANNUITY' : 'Annuités ($)',\n",
    "     'AMT_GOODS_PRICE' : 'Montant du bien ($)',\n",
    "     'NAME_HOUSING_TYPE' : 'Type de logement'})\n",
    "df_pret_client.head(3)"
   ]
  },
  {
   "cell_type": "code",
   "execution_count": 92,
   "id": "a6856058-ad81-419f-af5d-b7c1b9787447",
   "metadata": {},
   "outputs": [
    {
     "name": "stdout",
     "output_type": "stream",
     "text": [
      "-------------------------------------------------------------------------------\n",
      "Memory usage du dataframe: 2.60 MB\n",
      "Memory usage après optimization: 1.86 MB\n",
      "Diminution de 28.6%\n",
      "-------------------------------------------------------------------------------\n"
     ]
    }
   ],
   "source": [
    "# Réduction de la taille des variables pour optimisation mémoire\n",
    "df_pret_client = reduce_mem_usage(df_pret_client)"
   ]
  },
  {
   "cell_type": "code",
   "execution_count": 93,
   "id": "d4a7b9de-e51d-40bd-bc68-6e077bd607a4",
   "metadata": {},
   "outputs": [],
   "source": [
    "# Sauvegarde de df_pret_client\n",
    "fic_sav_df_pret_client ='pickle_files/df_pret_client.pickle'\n",
    "with open(fic_sav_df_pret_client, 'wb') as f:\n",
    "    pickle.dump(df_pret_client, f, pickle.HIGHEST_PROTOCOL)"
   ]
  },
  {
   "cell_type": "code",
   "execution_count": 94,
   "id": "af5da92e-9b44-446c-947d-88f512529f4d",
   "metadata": {},
   "outputs": [
    {
     "data": {
      "text/plain": [
       "(48744, 6)"
      ]
     },
     "execution_count": 94,
     "metadata": {},
     "output_type": "execute_result"
    }
   ],
   "source": [
    "# Chargement du dataframe df_pret_client\n",
    "fic_sav_df_pret_client ='pickle_files/df_pret_client.pickle'\n",
    "with open(fic_sav_df_pret_client, 'rb') as df_pret_client:\n",
    "    df_pret_client = pickle.load(df_pret_client)\n",
    "df_pret_client.shape"
   ]
  },
  {
   "cell_type": "code",
   "execution_count": null,
   "id": "fd61efa9-03db-4ecd-9f86-9bcb5a7505e1",
   "metadata": {},
   "outputs": [],
   "source": []
  }
 ],
 "metadata": {
  "kernelspec": {
   "display_name": "Python 3 (ipykernel)",
   "language": "python",
   "name": "python3"
  },
  "language_info": {
   "codemirror_mode": {
    "name": "ipython",
    "version": 3
   },
   "file_extension": ".py",
   "mimetype": "text/x-python",
   "name": "python",
   "nbconvert_exporter": "python",
   "pygments_lexer": "ipython3",
   "version": "3.8.8"
  }
 },
 "nbformat": 4,
 "nbformat_minor": 5
}
